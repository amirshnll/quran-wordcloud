{
 "cells": [
  {
   "cell_type": "code",
   "execution_count": null,
   "metadata": {},
   "outputs": [],
   "source": [
    "!pip install wordcloud\n",
    "!pip install arabic_reshaper\n",
    "!pip install python-bidi"
   ]
  },
  {
   "cell_type": "code",
   "execution_count": null,
   "metadata": {},
   "outputs": [],
   "source": [
    "import re\n",
    "import pandas as pd\n",
    "import re\n",
    "import codecs\n",
    "import os\n",
    "import string\n",
    "import matplotlib.pyplot as plt\n",
    "from wordcloud import WordCloud\n",
    "import arabic_reshaper\n",
    "from bidi.algorithm import get_display"
   ]
  },
  {
   "cell_type": "code",
   "execution_count": null,
   "metadata": {
    "scrolled": true
   },
   "outputs": [],
   "source": [
    "thisdir = os.getcwd()\n",
    "language_file = \"arabic\"\n",
    "\n",
    "for r, d, f in os.walk(\"data-aya/\"+language_file):\n",
    "    for file in f:\n",
    "        if file.endswith(\".txt\"):\n",
    "            data = os.path.dirname(__file__) if \"__file__\" in locals() else os.getcwd()\n",
    "            file_input = codecs.open(os.path.join(data, \"data-aya/\"+language_file+\"/\"+file), 'r', 'utf-8')\n",
    "            quran_text = arabic_reshaper.reshape(file_input.read())\n",
    "            quran_text = quran_text.replace(\"\\n\", \" \")\n",
    "            quran_string = get_display(quran_text) \n",
    "            wc = WordCloud(background_color=\"white\",font_path='font/vazir.ttf', width=2000, height=1000)\n",
    "            wc.generate(quran_string)\n",
    "            print(file)\n",
    "            plt.figure(figsize=(20,20))\n",
    "            plt.axis(\"off\")\n",
    "            plt.imshow(wc)\n",
    "            plt.savefig(\"wordcloud/\"+language_file+\"/\"+file.replace(\".txt\", \".png\"))\n",
    "\n",
    "            plt.show()"
   ]
  },
  {
   "cell_type": "code",
   "execution_count": null,
   "metadata": {},
   "outputs": [],
   "source": [
    "thisdir = os.getcwd()\n",
    "language_file = \"english\"\n",
    "\n",
    "for r, d, f in os.walk(\"data-aya/\"+language_file):\n",
    "    for file in f:\n",
    "        if file.endswith(\".txt\"):\n",
    "            data = os.path.dirname(__file__) if \"__file__\" in locals() else os.getcwd()\n",
    "            file_input = codecs.open(os.path.join(data, \"data-aya/\"+language_file+\"/\"+file), 'r')\n",
    "            quran_text = file_input.read()\n",
    "            quran_text = quran_text.replace(\"\\n\", \" \")\n",
    "            quran_text = quran_text.lower()\n",
    "            quran_string = get_display(quran_text)\n",
    "            wc = WordCloud(background_color=\"white\",font_path='font/calibri.ttf', width=2000, height=1000)\n",
    "            wc.generate(quran_string)\n",
    "            print(file)\n",
    "            plt.figure(figsize=(20,20))\n",
    "            plt.axis(\"off\")\n",
    "            plt.imshow(wc)\n",
    "            plt.savefig(\"wordcloud/\"+language_file+\"/\"+file.replace(\".txt\", \".png\"))\n",
    "\n",
    "            plt.show()"
   ]
  },
  {
   "cell_type": "code",
   "execution_count": null,
   "metadata": {},
   "outputs": [],
   "source": [
    "thisdir = os.getcwd()\n",
    "language_file = \"persian\"\n",
    "\n",
    "for r, d, f in os.walk(\"data-aya/\"+language_file):\n",
    "    for file in f:\n",
    "        if file.endswith(\".txt\"):\n",
    "            data = os.path.dirname(__file__) if \"__file__\" in locals() else os.getcwd()\n",
    "\n",
    "            file_input = codecs.open(os.path.join(data, \"data-aya/\"+language_file+\"/\"+file), 'r', 'utf-8')\n",
    "            quran_text = arabic_reshaper.reshape(file_input.read())\n",
    "            quran_text = quran_text.replace(\"\\n\", \" \")\n",
    "            quran_string = get_display(quran_text)         \n",
    "            wc = WordCloud(background_color=\"white\",font_path='font/vazir.ttf', width=2000, height=1000)\n",
    "            wc.generate(quran_string)\n",
    "            print(file)\n",
    "            plt.figure(figsize=(20,20))\n",
    "            plt.axis(\"off\")\n",
    "            plt.imshow(wc)\n",
    "            plt.savefig(\"wordcloud/\"+language_file+\"/\"+file.replace(\".txt\", \".png\"))\n",
    "\n",
    "            plt.show()"
   ]
  }
 ],
 "metadata": {
  "kernelspec": {
   "display_name": "Python 3",
   "language": "python",
   "name": "python3"
  },
  "language_info": {
   "codemirror_mode": {
    "name": "ipython",
    "version": 3
   },
   "file_extension": ".py",
   "mimetype": "text/x-python",
   "name": "python",
   "nbconvert_exporter": "python",
   "pygments_lexer": "ipython3",
   "version": "3.8.3"
  }
 },
 "nbformat": 4,
 "nbformat_minor": 4
}
