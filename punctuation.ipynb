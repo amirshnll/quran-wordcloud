{
 "cells": [
  {
   "cell_type": "code",
   "execution_count": null,
   "metadata": {},
   "outputs": [],
   "source": [
    "import os\n",
    "import codecs\n",
    "import string\n",
    "import arabic_reshaper\n",
    "from bidi.algorithm import get_display"
   ]
  },
  {
   "cell_type": "code",
   "execution_count": null,
   "metadata": {},
   "outputs": [],
   "source": [
    "thisdir = os.getcwd()\n",
    "\n",
    "for r, d, f in os.walk(\"raw\"):\n",
    "    for file in f:\n",
    "        if file.endswith(\".txt\"):\n",
    "            data = os.path.dirname(__file__) if \"__file__\" in locals() else os.getcwd()\n",
    "            file_input = codecs.open(os.path.join(data, 'assets/'+file), 'r', 'utf-8')\n",
    "            quran_text = arabic_reshaper.reshape(file_input.read())\n",
    "            quran_text = get_display(quran_text)\n",
    "            punctuation_character = str.maketrans('', '', string.punctuation)\n",
    "            quran_text = quran_text.translate(punctuation_character)\n",
    "            quran_text = quran_text.strip()\n",
    "            file_input.close()\n",
    "\n",
    "            file_ouput = open(\"data/\"+file, \"w+\", encoding='utf-8')\n",
    "            file_ouput.write(quran_text)\n",
    "            file_ouput.close()\n",
    "            quran_text = \"\";"
   ]
  }
 ],
 "metadata": {
  "kernelspec": {
   "display_name": "Python 3",
   "language": "python",
   "name": "python3"
  },
  "language_info": {
   "codemirror_mode": {
    "name": "ipython",
    "version": 3
   },
   "file_extension": ".py",
   "mimetype": "text/x-python",
   "name": "python",
   "nbconvert_exporter": "python",
   "pygments_lexer": "ipython3",
   "version": "3.8.3"
  }
 },
 "nbformat": 4,
 "nbformat_minor": 4
}
